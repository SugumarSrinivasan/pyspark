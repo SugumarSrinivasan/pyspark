{
 "cells": [
  {
   "cell_type": "markdown",
   "metadata": {},
   "source": [
    "**Dealing with Nested Schema:**"
   ]
  },
  {
   "cell_type": "code",
   "execution_count": null,
   "metadata": {},
   "outputs": [],
   "source": [
    "import findspark\n",
    "findspark.init\n",
    "import getpass\n",
    "from pyspark.sql import SparkSession\n",
    "\n",
    "username = getpass.getuser()\n",
    "spark = SparkSession. \\\n",
    "    builder. \\\n",
    "    config(\"spark.sql.catalogImplementation\", \"hive\"). \\\n",
    "    config(\"spark.sql.warehouse.dir\",f\"/Users/{username}/Documents/data/warehouse\"). \\\n",
    "    enableHiveSupport(). \\\n",
    "    master(\"local\"). \\\n",
    "    getOrCreate()"
   ]
  },
  {
   "cell_type": "code",
   "execution_count": 5,
   "metadata": {},
   "outputs": [],
   "source": [
    "from pyspark.sql.types import *"
   ]
  },
  {
   "cell_type": "code",
   "execution_count": 10,
   "metadata": {},
   "outputs": [],
   "source": [
    "customer_schema = StructType([\n",
    "    StructField(\"customer_id\",IntegerType()),\n",
    "    StructField(\"fullname\", StructType([\n",
    "        StructField(\"firstname\",StringType()),\n",
    "        StructField(\"lastname\",StringType()),\n",
    "    ])),\n",
    "    StructField(\"city\",StringType())\n",
    "])"
   ]
  },
  {
   "cell_type": "code",
   "execution_count": 11,
   "metadata": {},
   "outputs": [],
   "source": [
    "df = spark.read.format(\"json\").schema(customer_schema).load(\"/Users/sugumarsrinivasan/Documents/data/customer.json\")"
   ]
  },
  {
   "cell_type": "code",
   "execution_count": 12,
   "metadata": {},
   "outputs": [
    {
     "name": "stdout",
     "output_type": "stream",
     "text": [
      "+-----------+----------------+---------+\n",
      "|customer_id|        fullname|     city|\n",
      "+-----------+----------------+---------+\n",
      "|          1| {sumit, mittal}|bangalore|\n",
      "|          2|    {ram, kumar}|hyderabad|\n",
      "|          3|{vijay, shankar}|     pune|\n",
      "+-----------+----------------+---------+\n",
      "\n"
     ]
    }
   ],
   "source": [
    "df.show(5)"
   ]
  },
  {
   "cell_type": "code",
   "execution_count": 13,
   "metadata": {},
   "outputs": [
    {
     "name": "stdout",
     "output_type": "stream",
     "text": [
      "root\n",
      " |-- customer_id: integer (nullable = true)\n",
      " |-- fullname: struct (nullable = true)\n",
      " |    |-- firstname: string (nullable = true)\n",
      " |    |-- lastname: string (nullable = true)\n",
      " |-- city: string (nullable = true)\n",
      "\n"
     ]
    }
   ],
   "source": [
    "df.printSchema()"
   ]
  },
  {
   "cell_type": "code",
   "execution_count": 14,
   "metadata": {},
   "outputs": [],
   "source": [
    "ddl_schema = \"customer_id long, fullname struct<firstname string, lastname string>, city string\""
   ]
  },
  {
   "cell_type": "code",
   "execution_count": 15,
   "metadata": {},
   "outputs": [],
   "source": [
    "df = spark.read.format(\"json\").schema(ddl_schema).load(\"/Users/sugumarsrinivasan/Documents/data/customer.json\")"
   ]
  },
  {
   "cell_type": "code",
   "execution_count": 16,
   "metadata": {},
   "outputs": [
    {
     "name": "stdout",
     "output_type": "stream",
     "text": [
      "+-----------+----------------+---------+\n",
      "|customer_id|        fullname|     city|\n",
      "+-----------+----------------+---------+\n",
      "|          1| {sumit, mittal}|bangalore|\n",
      "|          2|    {ram, kumar}|hyderabad|\n",
      "|          3|{vijay, shankar}|     pune|\n",
      "+-----------+----------------+---------+\n",
      "\n"
     ]
    }
   ],
   "source": [
    "df.show()"
   ]
  },
  {
   "cell_type": "code",
   "execution_count": 17,
   "metadata": {},
   "outputs": [],
   "source": [
    "customer_list = [\n",
    "    (1, (\"sumit\",\"mittal\"),\"bangalore\"),\n",
    "    (2, (\"ram\",\"kumar\"),\"hyderabad\"),\n",
    "    (3, (\"vijay\",\"shankar\"),\"pune\")\n",
    "]"
   ]
  },
  {
   "cell_type": "code",
   "execution_count": 18,
   "metadata": {},
   "outputs": [],
   "source": [
    "ddl_schema = \"customer_id long, fullname struct<firstname string, lastname string>, city string\""
   ]
  },
  {
   "cell_type": "code",
   "execution_count": 19,
   "metadata": {},
   "outputs": [],
   "source": [
    "df = spark.createDataFrame(customer_list,ddl_schema)"
   ]
  },
  {
   "cell_type": "code",
   "execution_count": 20,
   "metadata": {},
   "outputs": [
    {
     "name": "stdout",
     "output_type": "stream",
     "text": [
      "+-----------+----------------+---------+\n",
      "|customer_id|        fullname|     city|\n",
      "+-----------+----------------+---------+\n",
      "|          1| {sumit, mittal}|bangalore|\n",
      "|          2|    {ram, kumar}|hyderabad|\n",
      "|          3|{vijay, shankar}|     pune|\n",
      "+-----------+----------------+---------+\n",
      "\n"
     ]
    }
   ],
   "source": [
    "df.show()"
   ]
  },
  {
   "cell_type": "code",
   "execution_count": 21,
   "metadata": {},
   "outputs": [
    {
     "name": "stdout",
     "output_type": "stream",
     "text": [
      "root\n",
      " |-- customer_id: long (nullable = true)\n",
      " |-- fullname: struct (nullable = true)\n",
      " |    |-- firstname: string (nullable = true)\n",
      " |    |-- lastname: string (nullable = true)\n",
      " |-- city: string (nullable = true)\n",
      "\n"
     ]
    }
   ],
   "source": [
    "df.printSchema()"
   ]
  },
  {
   "cell_type": "code",
   "execution_count": 22,
   "metadata": {},
   "outputs": [],
   "source": [
    "customer_schema = StructType([\n",
    "    StructField(\"customer_id\",IntegerType()),\n",
    "    StructField(\"fullname\", StructType([\n",
    "        StructField(\"firstname\",StringType()),\n",
    "        StructField(\"lastname\",StringType()),\n",
    "    ])),\n",
    "    StructField(\"city\",StringType())\n",
    "])"
   ]
  },
  {
   "cell_type": "code",
   "execution_count": 23,
   "metadata": {},
   "outputs": [],
   "source": [
    "df = spark.createDataFrame(customer_list,customer_schema)"
   ]
  },
  {
   "cell_type": "code",
   "execution_count": 24,
   "metadata": {},
   "outputs": [
    {
     "name": "stdout",
     "output_type": "stream",
     "text": [
      "+-----------+----------------+---------+\n",
      "|customer_id|        fullname|     city|\n",
      "+-----------+----------------+---------+\n",
      "|          1| {sumit, mittal}|bangalore|\n",
      "|          2|    {ram, kumar}|hyderabad|\n",
      "|          3|{vijay, shankar}|     pune|\n",
      "+-----------+----------------+---------+\n",
      "\n"
     ]
    }
   ],
   "source": [
    "df.show()"
   ]
  },
  {
   "cell_type": "code",
   "execution_count": 25,
   "metadata": {},
   "outputs": [
    {
     "name": "stdout",
     "output_type": "stream",
     "text": [
      "root\n",
      " |-- customer_id: integer (nullable = true)\n",
      " |-- fullname: struct (nullable = true)\n",
      " |    |-- firstname: string (nullable = true)\n",
      " |    |-- lastname: string (nullable = true)\n",
      " |-- city: string (nullable = true)\n",
      "\n"
     ]
    }
   ],
   "source": [
    "df.printSchema()"
   ]
  }
 ],
 "metadata": {
  "kernelspec": {
   "display_name": "Python (pyspark-env)",
   "language": "python",
   "name": "pyspark-env"
  },
  "language_info": {
   "codemirror_mode": {
    "name": "ipython",
    "version": 3
   },
   "file_extension": ".py",
   "mimetype": "text/x-python",
   "name": "python",
   "nbconvert_exporter": "python",
   "pygments_lexer": "ipython3",
   "version": "3.9.21"
  }
 },
 "nbformat": 4,
 "nbformat_minor": 2
}
